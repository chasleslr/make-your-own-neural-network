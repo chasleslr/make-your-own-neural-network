{
 "cells": [
  {
   "cell_type": "code",
   "execution_count": 2,
   "metadata": {},
   "outputs": [],
   "source": [
    "import neuralnetwork as nn\n",
    "import numpy as np\n",
    "import pandas as pd\n",
    "import matplotlib.pyplot as plt\n",
    "import seaborn as sns\n",
    "from tensorflow import math\n",
    "from tqdm import tqdm_notebook as tqdm"
   ]
  },
  {
   "cell_type": "code",
   "execution_count": 2,
   "metadata": {},
   "outputs": [],
   "source": [
    "test_df = pd.read_csv('data/mnist_test.csv')\n",
    "train_df = pd.read_csv('data/mnist_train.csv')\n",
    "\n",
    "train_values = train_df.values\n",
    "test_values = test_df.values"
   ]
  },
  {
   "cell_type": "code",
   "execution_count": 15,
   "metadata": {},
   "outputs": [],
   "source": [
    "# set parameters\n",
    "input_nodes = 784\n",
    "hidden_nodes = 500\n",
    "output_nodes = 10\n",
    "learning_rate = 0.1\n",
    "epochs = 5"
   ]
  },
  {
   "cell_type": "code",
   "execution_count": 16,
   "metadata": {},
   "outputs": [],
   "source": [
    "# initialize the neural network\n",
    "neural_net = nn.NeuralNetwork(input_nodes, hidden_nodes, output_nodes, learning_rate)"
   ]
  },
  {
   "cell_type": "code",
   "execution_count": 17,
   "metadata": {
    "scrolled": false
   },
   "outputs": [
    {
     "data": {
      "application/vnd.jupyter.widget-view+json": {
       "model_id": "496784f471be4aabb95e165c2a36c7e6",
       "version_major": 2,
       "version_minor": 0
      },
      "text/plain": [
       "HBox(children=(IntProgress(value=0, max=60000), HTML(value='')))"
      ]
     },
     "metadata": {},
     "output_type": "display_data"
    },
    {
     "name": "stdout",
     "output_type": "stream",
     "text": [
      "\n"
     ]
    },
    {
     "data": {
      "application/vnd.jupyter.widget-view+json": {
       "model_id": "1281bd09f7d14acc9868a3a6f7cde103",
       "version_major": 2,
       "version_minor": 0
      },
      "text/plain": [
       "HBox(children=(IntProgress(value=0, max=60000), HTML(value='')))"
      ]
     },
     "metadata": {},
     "output_type": "display_data"
    },
    {
     "name": "stdout",
     "output_type": "stream",
     "text": [
      "\n"
     ]
    },
    {
     "data": {
      "application/vnd.jupyter.widget-view+json": {
       "model_id": "fc8d0092b36c43069e2dda6f44a819db",
       "version_major": 2,
       "version_minor": 0
      },
      "text/plain": [
       "HBox(children=(IntProgress(value=0, max=60000), HTML(value='')))"
      ]
     },
     "metadata": {},
     "output_type": "display_data"
    },
    {
     "name": "stdout",
     "output_type": "stream",
     "text": [
      "\n"
     ]
    },
    {
     "data": {
      "application/vnd.jupyter.widget-view+json": {
       "model_id": "8112f27cc1ec468c9193c45d054eeeda",
       "version_major": 2,
       "version_minor": 0
      },
      "text/plain": [
       "HBox(children=(IntProgress(value=0, max=60000), HTML(value='')))"
      ]
     },
     "metadata": {},
     "output_type": "display_data"
    },
    {
     "name": "stdout",
     "output_type": "stream",
     "text": [
      "\n"
     ]
    },
    {
     "data": {
      "application/vnd.jupyter.widget-view+json": {
       "model_id": "cdfe78f2ed92445c85ff9c4733b118b2",
       "version_major": 2,
       "version_minor": 0
      },
      "text/plain": [
       "HBox(children=(IntProgress(value=0, max=60000), HTML(value='')))"
      ]
     },
     "metadata": {},
     "output_type": "display_data"
    },
    {
     "name": "stdout",
     "output_type": "stream",
     "text": [
      "\n"
     ]
    }
   ],
   "source": [
    "# train the neural network\n",
    "for epoch in range(epochs):\n",
    "    for record in tqdm(train_values):\n",
    "\n",
    "        # rescale pixel values so they are in the range 0.01-1 instead of 0-255 to work with activation function\n",
    "        scaled_inputs = (np.asfarray(record[1:]) / 255.0 * 0.99) + 0.01\n",
    "\n",
    "        # define target output values given the network's activation function's range\n",
    "        targets = np.zeros(output_nodes) + 0.01\n",
    "        targets[int(record[0])] = 0.99\n",
    "\n",
    "        neural_net.train(scaled_inputs, targets)"
   ]
  },
  {
   "cell_type": "code",
   "execution_count": 18,
   "metadata": {},
   "outputs": [
    {
     "data": {
      "application/vnd.jupyter.widget-view+json": {
       "model_id": "2612ab05753b46568c88e9960c9931c2",
       "version_major": 2,
       "version_minor": 0
      },
      "text/plain": [
       "HBox(children=(IntProgress(value=0, max=10000), HTML(value='')))"
      ]
     },
     "metadata": {},
     "output_type": "display_data"
    },
    {
     "name": "stdout",
     "output_type": "stream",
     "text": [
      "\n",
      "Accuracy:  0.9758\n"
     ]
    }
   ],
   "source": [
    "# test the neural network\n",
    "score = []\n",
    "predictions = []\n",
    "labels = []\n",
    "\n",
    "for record in tqdm(test_values):\n",
    "    \n",
    "    # rescale pixel values so they are in the range 0.01-1 instead of 0-255 to work with activation function\n",
    "    scaled_inputs = (np.asfarray(record[1:]) / 255.0 * 0.99) + 0.01\n",
    "    \n",
    "    # define target output values given the network's activation function's range\n",
    "    targets = np.zeros(output_nodes) + 0.01\n",
    "    label = int(record[0])\n",
    "    targets[label] = 0.99\n",
    "    \n",
    "    # obtain the neural net's prediction\n",
    "    output = neural_net.query(scaled_inputs)\n",
    "    prediction = np.argmax(output)\n",
    "    \n",
    "    if prediction == label:\n",
    "        score.append(1)\n",
    "    else:\n",
    "        score.append(0)\n",
    "    \n",
    "    predictions.append(prediction)\n",
    "    labels.append(label)\n",
    "\n",
    "score_array = np.asarray(score)\n",
    "predictions_array = np.asarray(predictions)\n",
    "labels_array = np.asarray(labels)\n",
    "\n",
    "# compute the performance\n",
    "accuracy = score_array.sum() / score_array.size\n",
    "\n",
    "print(\"Accuracy: \", accuracy)"
   ]
  },
  {
   "cell_type": "code",
   "execution_count": 13,
   "metadata": {},
   "outputs": [
    {
     "data": {
      "image/png": "[encoded data removed]",
      "text/plain": [
       "<Figure size 432x288 with 2 Axes>"
      ]
     },
     "metadata": {
      "needs_background": "light"
     },
     "output_type": "display_data"
    }
   ],
   "source": [
    "# plot the confusion matrix\n",
    "confusion_matrix = math.confusion_matrix(predictions_array, labels_array)\n",
    "sns.heatmap(confusion_matrix, vmax=200, cmap='Blues')\n",
    "plt.show();"
   ]
  },
  {
   "cell_type": "code",
   "execution_count": 14,
   "metadata": {},
   "outputs": [
    {
     "data": {
      "text/plain": [
       "array([[0.01264667],\n",
       "       [0.01134177],\n",
       "       [0.00396119],\n",
       "       [0.00992686],\n",
       "       [0.01203458],\n",
       "       [0.00829792],\n",
       "       [0.99233521],\n",
       "       [0.00103951],\n",
       "       [0.00202333],\n",
       "       [0.00295703]])"
      ]
     },
     "execution_count": 14,
     "metadata": {},
     "output_type": "execute_result"
    }
   ],
   "source": [
    "output.astype(float)"
   ]
  },
  {
   "cell_type": "code",
   "execution_count": null,
   "metadata": {},
   "outputs": [],
   "source": []
  }
 ],
 "metadata": {
  "kernelspec": {
   "display_name": "Python 3",
   "language": "python",
   "name": "python3"
  },
  "language_info": {
   "codemirror_mode": {
    "name": "ipython",
    "version": 3
   },
   "file_extension": ".py",
   "mimetype": "text/x-python",
   "name": "python",
   "nbconvert_exporter": "python",
   "pygments_lexer": "ipython3",
   "version": "3.7.3"
  }
 },
 "nbformat": 4,
 "nbformat_minor": 2
}
